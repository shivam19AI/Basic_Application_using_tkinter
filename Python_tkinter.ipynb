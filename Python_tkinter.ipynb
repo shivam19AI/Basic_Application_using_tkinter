{
 "cells": [
  {
   "cell_type": "code",
   "execution_count": 8,
   "id": "28696546",
   "metadata": {},
   "outputs": [],
   "source": [
    "from tkinter import *\n",
    "from PIL import ImageTk,Image\n",
    "from tkinter import messagebox\n",
    "  \n",
    "def handle_login():\n",
    "    email = email_input.get()\n",
    "    password = password_input.get()\n",
    "    \n",
    "    if email =='nitish@gmail.com' and password =='1234':\n",
    "        messagebox.showinfo('Good','Login Successful')\n",
    "    else:\n",
    "        messagebox.showerror('Error','Login Failed')\n",
    "        \n",
    "    \n",
    "    \n",
    "\n",
    "root = Tk()\n",
    "root.title('Login Form')\n",
    "root.iconbitmap(\"C:\\\\Users\\kumar\\Desktop/galaxy.jpg\")\n",
    "root.minsize(300,400)\n",
    "root.maxsize(300,400)\n",
    "root.configure(background ='#0096DC')\n",
    "\n",
    "img = Image.open('C:\\\\Users\\kumar\\Desktop/Flipkart.png')\n",
    "resized_img = img.resize((70,70))\n",
    "img = ImageTk.PhotoImage(resized_img)\n",
    "img_label = Label(root,image =img )\n",
    "img_label.pack(pady =(10,10))\n",
    "text_label = Label(root,text='Flipkart',fg = 'white',bg = '#0096DC')\n",
    "text_label.pack()\n",
    "text_label.config(font = ('verdana',20))\n",
    "\n",
    "\n",
    "email_label = Label(root,text ='Enter Email',fg = 'white',bg ='#0096DC' )\n",
    "email_label.pack(pady =(20,5))\n",
    "email_label.config(font = ('verdana',12))\n",
    "email_input = Entry(root,width = 30)\n",
    "email_input.pack(ipady = 3,pady =(1,15))\n",
    "\n",
    "password_label = Label(root,text ='Enter password',fg = 'white',bg ='#0096DC' )\n",
    "password_label.pack(pady =(20,5))\n",
    "password_label.config(font = ('verdana',12))\n",
    "password_input = Entry(root,width = 30)\n",
    "password_input.pack(ipady = 3,pady =(1,15))\n",
    "\n",
    "login_btn =Button(root, text ='Login Here',bg ='white',fg = 'black',width =14,height=1,command =handle_login)\n",
    "login_btn.pack(pady = (10,20))\n",
    "login_btn.config(font =('verdana',10))\n",
    "\n",
    "\n",
    "\n",
    "root.mainloop() \n",
    "\n"
   ]
  },
  {
   "cell_type": "code",
   "execution_count": null,
   "id": "14835387",
   "metadata": {},
   "outputs": [],
   "source": []
  }
 ],
 "metadata": {
  "kernelspec": {
   "display_name": "Python 3 (ipykernel)",
   "language": "python",
   "name": "python3"
  },
  "language_info": {
   "codemirror_mode": {
    "name": "ipython",
    "version": 3
   },
   "file_extension": ".py",
   "mimetype": "text/x-python",
   "name": "python",
   "nbconvert_exporter": "python",
   "pygments_lexer": "ipython3",
   "version": "3.9.12"
  }
 },
 "nbformat": 4,
 "nbformat_minor": 5
}
